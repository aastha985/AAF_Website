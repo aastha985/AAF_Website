{
  "nbformat": 4,
  "nbformat_minor": 0,
  "metadata": {
    "colab": {
      "name": "LO_Assignment_Q1.ipynb",
      "provenance": [],
      "toc_visible": true,
      "collapsed_sections": [],
      "authorship_tag": "ABX9TyM4IK3O5nLyOa9TCWzdkJol",
      "include_colab_link": true
    },
    "kernelspec": {
      "name": "python3",
      "display_name": "Python 3"
    },
    "language_info": {
      "name": "python"
    }
  },
  "cells": [
    {
      "cell_type": "markdown",
      "metadata": {
        "id": "view-in-github",
        "colab_type": "text"
      },
      "source": [
        "<a href=\"https://colab.research.google.com/github/aastha985/AAF_Website/blob/master/Simplex_From_Scratch.ipynb\" target=\"_parent\"><img src=\"https://colab.research.google.com/assets/colab-badge.svg\" alt=\"Open In Colab\"/></a>"
      ]
    },
    {
      "cell_type": "markdown",
      "source": [
        "# Importing Modules"
      ],
      "metadata": {
        "id": "_sYRTKrtl_me"
      }
    },
    {
      "cell_type": "code",
      "execution_count": null,
      "metadata": {
        "id": "JnsB_Ijkj6Ub"
      },
      "outputs": [],
      "source": [
        "import numpy as np\n",
        "import math"
      ]
    },
    {
      "cell_type": "markdown",
      "source": [
        "#Minimization Simplex Algorithm In Python"
      ],
      "metadata": {
        "id": "YKCTnTMmAISt"
      }
    },
    {
      "cell_type": "code",
      "source": [
        "def simplex_matrix(A,b,c):\n",
        "  \"\"\"\n",
        "  Generates the table for performing simplex in tabular form\n",
        "  \"\"\"\n",
        "  matrix = []\n",
        "  for i in range(len(A)):\n",
        "    matrix.append(A[i]+[b[i]])\n",
        "\n",
        "  matrix.append(c+[0])\n",
        "  return np.array(matrix,dtype=float)"
      ],
      "metadata": {
        "id": "f5ZoJWMqrB_V"
      },
      "execution_count": null,
      "outputs": []
    },
    {
      "cell_type": "code",
      "source": [
        "def is_not_optimal(matrix):\n",
        "  \"\"\"\n",
        "  Checks if further optimization is possible\n",
        "  \n",
        "  If any of the reduced cost vector entries is less than 0\n",
        "  it returns True, else it returns False\n",
        "  \"\"\"\n",
        "  cost = matrix[-1][:-1]\n",
        "  return np.any(cost<0)"
      ],
      "metadata": {
        "id": "YchhOoSVzBpy"
      },
      "execution_count": null,
      "outputs": []
    },
    {
      "cell_type": "code",
      "source": [
        "def entering_variable(matrix):\n",
        "  \"\"\"\n",
        "  Returns the index of the minimum cost vector, \n",
        "  the entering variable column\n",
        "  \"\"\"\n",
        "  cost = matrix[-1][:-1]\n",
        "  return np.argmin(cost)"
      ],
      "metadata": {
        "id": "ROEDg44JB3pp"
      },
      "execution_count": null,
      "outputs": []
    },
    {
      "cell_type": "code",
      "source": [
        "def leaving_variable(enter,matrix):\n",
        "  \"\"\"\n",
        "  returns the row with minimum ratio of bj/aij,\n",
        "  the leaving variable row\n",
        "  \"\"\"\n",
        "  minRatio = math.inf\n",
        "  leave = 0\n",
        "  for i in range(len(matrix)-1):\n",
        "    aij= matrix[i][enter]\n",
        "    bj = matrix[i][-1]\n",
        "    if aij>0:\n",
        "      ratio = bj/aij\n",
        "      if ratio<minRatio:\n",
        "        minRatio = ratio\n",
        "        leave = i\n",
        "  return leave"
      ],
      "metadata": {
        "id": "CRVWcvKsEsou"
      },
      "execution_count": null,
      "outputs": []
    },
    {
      "cell_type": "code",
      "source": [
        "def perform_row_operations(leave,enter,matrix):\n",
        "  \"\"\"\n",
        "  performs elementary row transformations \n",
        "  \"\"\"\n",
        "  div = matrix[leave][enter]\n",
        "  for i in range(len(matrix[leave])):\n",
        "    matrix[leave][i]/=div\n",
        "  \n",
        "  for i in range(len(matrix)):\n",
        "    if i!=leave:\n",
        "      num = matrix[i][enter]\n",
        "      matrix[i] = matrix[i] - num*matrix[leave]\n",
        "  return matrix"
      ],
      "metadata": {
        "id": "D3hqFtIWPW6t"
      },
      "execution_count": null,
      "outputs": []
    },
    {
      "cell_type": "code",
      "source": [
        "def check(col):\n",
        "  \"\"\"\n",
        "  Checks if the columns has n-1 zeros and 1 one,\n",
        "  Returns this boolean value and the index of 1\n",
        "  \"\"\"\n",
        "  zero = 0\n",
        "  one = 0\n",
        "  oneIndex = -1\n",
        "  for i in range(len(col)):\n",
        "    if col[i]==0:\n",
        "      zero+=1\n",
        "    elif col[i]==1:\n",
        "      one+=1\n",
        "      oneIndex = i\n",
        "  return zero==len(col)-1 and one==1,oneIndex"
      ],
      "metadata": {
        "id": "u8pTHdmqiJ1N"
      },
      "execution_count": null,
      "outputs": []
    },
    {
      "cell_type": "code",
      "source": [
        "def get_optimal_solution(matrix):\n",
        "  \"\"\"\n",
        "  Generates the solution from the simplex table\n",
        "  \"\"\"\n",
        "  cols = matrix.T\n",
        "  ans = np.zeros(len(cols)-1)\n",
        "  for i in range(len(cols)-1):\n",
        "    basic,oneIndex = check(cols[i])\n",
        "    if(basic):\n",
        "      ans[i] = cols[-1][oneIndex]\n",
        "  return ans"
      ],
      "metadata": {
        "id": "WSybrDkbfck8"
      },
      "execution_count": null,
      "outputs": []
    },
    {
      "cell_type": "code",
      "source": [
        "def simplex(A,b,c):\n",
        "  \"\"\"\n",
        "  Simplex Method in tabular form\n",
        "  \"\"\"\n",
        "  table = simplex_matrix(A,b,c)\n",
        "  iteration = 1\n",
        "  while True:\n",
        "    print(\"Iteration\",iteration)\n",
        "    print(table,\"\\n\")\n",
        "    if is_not_optimal(table):\n",
        "      enter = entering_variable(table)\n",
        "      leave = leaving_variable(enter,table)\n",
        "      m = perform_row_operations(leave,enter,table)\n",
        "    else:\n",
        "      break\n",
        "    iteration+=1\n",
        "\n",
        "  print(\"The optimal solution is\",get_optimal_solution(table))"
      ],
      "metadata": {
        "id": "thwxvw0JlWX5"
      },
      "execution_count": null,
      "outputs": []
    },
    {
      "cell_type": "markdown",
      "source": [
        "# Example"
      ],
      "metadata": {
        "id": "q9KpZ0LYp0Z_"
      }
    },
    {
      "cell_type": "code",
      "source": [
        "c = [-1,-2,-1,0,0,0]\n",
        "A = [\n",
        "     [2,1,-1,1,0,0],\n",
        "     [2,-1,5,0,1,0],\n",
        "     [4,1,1,0,0,1]\n",
        "]\n",
        "b = [2,6,6]"
      ],
      "metadata": {
        "id": "oCZvDUHBUDYf"
      },
      "execution_count": null,
      "outputs": []
    },
    {
      "cell_type": "code",
      "source": [
        "simplex(A,b,c)"
      ],
      "metadata": {
        "colab": {
          "base_uri": "https://localhost:8080/"
        },
        "id": "z5QhNDasmAKU",
        "outputId": "ba1c9993-561f-44f4-d302-8f508bbc7329"
      },
      "execution_count": null,
      "outputs": [
        {
          "output_type": "stream",
          "name": "stdout",
          "text": [
            "Iteration 1\n",
            "[[ 2.  1. -1.  1.  0.  0.  2.]\n",
            " [ 2. -1.  5.  0.  1.  0.  6.]\n",
            " [ 4.  1.  1.  0.  0.  1.  6.]\n",
            " [-1. -2. -1.  0.  0.  0.  0.]] \n",
            "\n",
            "Iteration 2\n",
            "[[ 2.  1. -1.  1.  0.  0.  2.]\n",
            " [ 4.  0.  4.  1.  1.  0.  8.]\n",
            " [ 2.  0.  2. -1.  0.  1.  4.]\n",
            " [ 3.  0. -3.  2.  0.  0.  4.]] \n",
            "\n",
            "Iteration 3\n",
            "[[ 3.    1.    0.    1.25  0.25  0.    4.  ]\n",
            " [ 1.    0.    1.    0.25  0.25  0.    2.  ]\n",
            " [ 0.    0.    0.   -1.5  -0.5   1.    0.  ]\n",
            " [ 6.    0.    0.    2.75  0.75  0.   10.  ]] \n",
            "\n",
            "The optimal solution is [0. 4. 2. 0. 0. 0.]\n"
          ]
        }
      ]
    },
    {
      "cell_type": "code",
      "source": [
        ""
      ],
      "metadata": {
        "id": "CAZfGIRPmQ8l"
      },
      "execution_count": null,
      "outputs": []
    }
  ]
}